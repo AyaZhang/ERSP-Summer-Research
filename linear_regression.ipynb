{
 "cells": [
  {
   "cell_type": "code",
   "execution_count": 1,
   "metadata": {
    "collapsed": true
   },
   "outputs": [],
   "source": [
    "import numpy\n",
    "import scipy.optimize\n",
    "from sklearn import datasets, linear_model\n",
    "\n",
    "import parseData\n",
    "import analysis\n",
    "\n",
    "pathProducts = r\"C:\\Users\\Yijun\\Desktop\\Amazon\\meta_shoes_unique+fifteen_review+price.txt\"\n",
    "pathReviews = r\"C:\\Users\\Yijun\\Desktop\\Amazon\\reviews_shoes_unique+fifteen_review+price.txt\"\n",
    "pathLabels = r\"C:\\Users\\Yijun\\Desktop\\Amazon\\labels.txt\"\n",
    "\n",
    "shoes = parseData.parse(pathProducts)\n",
    "reviews = parseData.parse(pathReviews)\n",
    "labels = parseData.loadLabels(pathLabels)\n",
    "\n",
    "sample_shoes = dict()\n",
    "for i in shoes:\n",
    "  if i['asin'] in labels.keys():\n",
    "    sample_shoes[i['asin']] = i\n",
    "\n",
    "sample_reviews = list()\n",
    "for i in reviews:\n",
    "  if i['asin'] in labels.keys():\n",
    "    sample_reviews.append(i)"
   ]
  },
  {
   "cell_type": "code",
   "execution_count": 2,
   "metadata": {
    "collapsed": false
   },
   "outputs": [],
   "source": [
    "# Split data into training set, validation set, and test set\n",
    "\n",
    "import random\n",
    "\n",
    "training_set = random.sample(sample_shoes.items(), 800)\n",
    "\n",
    "for i in training_set:\n",
    "  del sample_shoes[i[0]]\n",
    "\n",
    "validation_set = random.sample(sample_shoes.items(), 100)\n",
    "\n",
    "for i in validation_set:\n",
    "  del sample_shoes[i[0]]\n",
    "\n",
    "test_set = sample_shoes\n",
    "\n",
    "# print training_set[0][1]"
   ]
  },
  {
   "cell_type": "raw",
   "metadata": {
    "collapsed": true
   },
   "source": [
    "# feature: price\n",
    "\n",
    "def feature(key):\n",
    "  feat = [1]\n",
    "  feat.append(sample_shoes[key]['price'])  # price feature\n",
    "  return feat"
   ]
  },
  {
   "cell_type": "raw",
   "metadata": {},
   "source": [
    "# feature: price and popularity\n",
    "\n",
    "def feature(key):\n",
    "  feat = [1]\n",
    "  feat.append(sample_shoes[key]['price'])  # price feature\n",
    "  count = 0\n",
    "  for i in sample_reviews:\n",
    "    if i['asin'] == key:\n",
    "      count += 1\n",
    "  feat.append(count) # popularity feature\n",
    "  return feat"
   ]
  },
  {
   "cell_type": "code",
   "execution_count": 3,
   "metadata": {
    "collapsed": false
   },
   "outputs": [],
   "source": [
    "# feature: keywords\n",
    "\n",
    "reviewList = parseData.tokenize(sample_reviews)\n",
    "words = analysis.commonWords(reviewList, 500)\n",
    "\n",
    "wordID = dict(zip(words, range(len(words))))\n",
    "wordSet = set(words)\n",
    "\n",
    "def feature(key):\n",
    "  feat = [0] * len(words)\n",
    "  for i in range(0, len(sample_reviews)):\n",
    "    if sample_reviews[i]['asin'] == key[0]:\n",
    "      review = reviewList[i]\n",
    "  for w in review:\n",
    "    if w in words:\n",
    "      feat[wordID[w]] += 1\n",
    "  feat.append(1)  #offset\n",
    "  return feat"
   ]
  },
  {
   "cell_type": "code",
   "execution_count": 4,
   "metadata": {
    "collapsed": false,
    "scrolled": true
   },
   "outputs": [
    {
     "name": "stdout",
     "output_type": "stream",
     "text": [
      "[  1.63384873e-01   2.79122616e-02  -4.32720057e-02   6.35298913e-02\n",
      "  -4.07141641e-02  -4.17136567e-02   4.74759794e-02   3.30390906e-02\n",
      "   2.12197553e-01  -2.09524884e-01  -1.32749589e-01   2.77557628e-01\n",
      "  -2.34794310e-01  -9.29256848e-02   1.72765776e-01  -1.31818982e-01\n",
      "   1.85824390e-01   1.13321785e-01  -7.68810763e-03  -1.18014618e-01\n",
      "   2.61364764e-01  -7.82721557e-02  -6.57008688e-02  -1.18735855e-01\n",
      "   1.74314276e-01  -1.35824163e-01  -1.30341142e-01  -4.74168705e-02\n",
      "   1.83130718e-01   1.07547073e-01   3.14597096e-02   1.00860538e-01\n",
      "   1.64820674e-01  -4.61954189e-01  -3.63867955e-01   2.29368419e-02\n",
      "  -2.58199323e-01   8.07524655e-02  -1.45659474e-02   2.94095065e-01\n",
      "  -6.62544682e-01   3.34211271e-02  -1.26351231e-01  -2.23644602e-01\n",
      "  -3.21794085e-01  -5.08845093e-02  -1.35501230e-02  -2.85416331e-01\n",
      "   2.39654254e-01  -6.19171406e-02   9.79599198e-02  -3.36704386e-01\n",
      "  -7.64513463e-02   1.70284823e-03  -2.77110511e-02   2.25478950e-01\n",
      "  -2.57010842e-01  -2.76276882e-01   4.83962964e-01  -2.25635273e-01\n",
      "   1.90077321e-01  -1.50949261e-01  -3.87070740e-01   2.29107336e-01\n",
      "  -5.12878878e-01   9.24559688e-02   8.19470986e-02   2.32643989e-01\n",
      "  -1.78783160e-01  -3.59615255e-02  -3.35070937e-02   4.58306598e-01\n",
      "   1.79689667e-01  -6.74258771e-02   3.06163847e-01   1.04695147e-01\n",
      "  -5.24660234e-01   7.92055494e-02   7.08502022e-02   4.98918980e-02\n",
      "   2.26021842e-01   2.83619690e-01  -2.39350788e-02  -4.76772659e-02\n",
      "   1.42857194e-01   2.26017150e-01  -4.11364289e-01   6.49619527e-01\n",
      "  -5.36817847e-01  -3.58080758e-01  -9.39036976e-02   1.26874484e-01\n",
      "   1.29630750e-01  -4.83473145e-02  -1.67976659e-01   1.07266224e-01\n",
      "  -3.76793566e-01   1.34372207e-01   1.94354224e-01   3.57366434e-01\n",
      "  -6.72883670e-01   1.20010406e+00   2.51584152e-01  -5.60352799e-01\n",
      "  -1.60527623e-01  -3.81446440e-02   1.40237687e-01   4.27798269e-01\n",
      "  -1.77898916e-01   4.37075902e-01  -5.15546712e-01   3.69260201e-02\n",
      "  -7.84531844e-02   2.50757086e-02  -1.59306360e-01  -3.01671496e-01\n",
      "  -4.31318902e-01   4.39687020e-01   3.48503768e-01   1.32264059e-04\n",
      "   9.27283481e-01  -3.20390528e-01   2.65774405e-01   3.71481179e-02\n",
      "   4.32690278e-01   3.90742213e-01  -1.02120052e-01  -4.71254995e-01\n",
      "  -5.46234550e-01  -4.76917141e-01   2.71038578e-01   3.53170465e-01\n",
      "  -4.59127707e-01  -3.06237731e-01   4.22912386e-01   5.63443222e-01\n",
      "  -1.25197638e-01   3.78323151e-01   2.94570028e-01  -4.01925175e-01\n",
      "  -7.85642522e-01   9.37988612e-01  -3.59911253e-01  -9.41946422e-02\n",
      "  -5.03772831e-01   7.39662536e-01  -5.81904423e-01   4.83467855e-01\n",
      "   4.94130694e-01   2.81528666e-01  -5.02927425e-02  -2.54822925e-01\n",
      "   6.71547900e-01  -2.30386253e-01   8.02751612e-02  -1.90809954e-01\n",
      "   3.16968113e-01   2.89017534e-01   1.53236433e+00   4.10448148e-01\n",
      "  -2.95220766e-02   3.09314592e-01   7.51887626e-01   5.52321978e-03\n",
      "  -4.29140769e-01  -5.41789617e-01  -7.58308374e-01  -3.34676794e-01\n",
      "  -1.59551370e-02   2.90491248e-01  -8.72045854e-01  -1.41448147e-01\n",
      "  -1.05305208e-01   1.26215592e-01   6.21199336e-01  -5.26518443e-02\n",
      "  -2.74440261e-01  -5.77428352e-01  -6.45010665e-02   5.89507360e-01\n",
      "  -1.32174794e+00  -4.43079860e-01   4.63936582e-02   2.15009461e-01\n",
      "   3.55684966e-01  -5.54069541e-02  -1.24145036e+00   3.44493951e-01\n",
      "   4.15228113e-01  -5.09695776e-01  -7.72445035e-01   1.22619908e-01\n",
      "  -3.31768880e-01  -4.57732051e-01   3.08042240e-01   1.39072697e-01\n",
      "  -2.01533537e-01   1.25223338e-01   7.89985340e-01  -4.92717962e-01\n",
      "   3.32621739e-01   7.83738607e-01  -5.13002837e-01   4.11082666e-01\n",
      "   2.34421842e-01   6.78682276e-01  -1.67444827e-01  -3.43668498e-01\n",
      "   4.94030169e-01   1.97726573e-02  -8.34413384e-01   9.33191434e-02\n",
      "  -3.89964949e-01  -1.47630330e-01  -7.64709031e-01  -2.74613424e-01\n",
      "   5.79270767e-01  -8.42829196e-02   1.98882913e-01   8.40534108e-01\n",
      "  -6.29520822e-01  -1.49221646e-02   2.38888151e-02   7.22415147e-01\n",
      "  -4.29008335e-01  -3.25295622e-01   8.66902497e-01  -2.84789828e-01\n",
      "   1.15977643e-01  -2.63106476e-01  -5.81097011e-01  -1.95498703e+00\n",
      "  -6.67187214e-01   1.38809834e-01   2.32317984e-01  -1.01067401e+00\n",
      "  -6.34952453e-01  -7.91845889e-01   3.41850967e-01   8.90510052e-01\n",
      "   1.02823153e+00   3.23815814e-01   3.69556478e-01  -6.50598417e-01\n",
      "  -4.02714376e-01  -7.94466263e-01  -1.78512599e-01   4.55677289e-01\n",
      "  -1.12176223e+00  -8.00439535e-01  -2.89150554e-01  -2.42001703e-01\n",
      "  -6.50211504e-01   2.42424247e-01  -1.28064599e-01   2.69483934e-01\n",
      "  -1.90074314e-01  -4.90182064e-01  -3.30712582e-01   2.03201819e-02\n",
      "  -2.94222108e-02   1.02476198e+00  -1.34180811e+00  -8.27058434e-02\n",
      "  -3.59513608e-02  -2.30804049e-02   2.62104496e-01   8.68061426e-01\n",
      "  -2.55666786e-01  -8.86397744e-01   3.58892393e-01  -7.90403796e-01\n",
      "   1.15223370e+00  -5.36821812e-01   5.04159085e-01  -2.01146063e-01\n",
      "  -9.45140832e-02  -2.43737091e-01   4.01444672e-01   1.31475722e+00\n",
      "   4.14718476e-01  -1.74710428e-02   3.59502029e-01  -5.72753466e-01\n",
      "   8.92975365e-02   5.85500442e-01  -1.36911371e+00   5.45596964e-01\n",
      "   2.30209858e-02   3.30655637e-02  -1.05803499e-01   7.28383740e-01\n",
      "   4.75837870e-01  -2.55268373e-01   9.06631286e-02   1.16113048e+00\n",
      "   9.57920660e-01   2.61476636e-01   6.82998312e-01  -7.34765360e-01\n",
      "   1.48491726e+00  -8.29973486e-01   2.80935581e-01   1.55587378e+00\n",
      "   6.17507856e-01  -2.95829428e-01  -3.41432811e-01   6.94768911e-01\n",
      "  -8.75066880e-01  -5.58905023e-01   5.77256642e-01  -9.20594137e-01\n",
      "   4.52363455e-02   6.16521512e-01  -3.86044137e-01   1.38758675e-01\n",
      "  -8.09330184e-02   1.62254449e+00  -1.17282163e+00  -2.71857190e-01\n",
      "  -5.07932757e-02   1.02786441e-01  -1.27463681e-01   9.93445836e-01\n",
      "   7.81718782e-01  -3.57958753e-01   1.78723441e+00  -2.30171047e-01\n",
      "   6.33158402e-01  -4.45958782e-01   2.95255545e-01  -1.17155369e+00\n",
      "   8.01677711e-01  -1.00235676e+00   7.32148365e-01   1.51567379e-01\n",
      "   6.40131811e-01   1.06524870e+00  -4.61637033e-01  -2.26556079e-01\n",
      "  -1.24153117e-01  -5.20882942e-01  -1.36358311e-01   1.33079447e+00\n",
      "   5.57616412e-01  -1.76479362e+00  -4.55619366e-01   2.87196538e-01\n",
      "  -2.86610114e-01  -4.11602008e-02  -9.79426361e-01   2.10899685e+00\n",
      "  -8.28392465e-01   3.52969149e-02   1.61603192e-01   1.98087585e-03\n",
      "  -3.53892223e-01   1.14716452e+00  -6.66133815e-16   4.41276851e-01\n",
      "  -6.93304443e-01  -3.42663992e-01  -1.42296777e-01   1.45111406e-01\n",
      "  -4.53206567e-01   5.71338839e-01  -6.74344960e-01   2.32628424e-01\n",
      "   1.67621659e-02  -7.30415773e-01  -1.84969710e-01   8.12410733e-01\n",
      "   5.93930576e-01  -8.43677379e-02   3.07215810e-01  -1.55291390e-01\n",
      "   1.53893259e-03   1.30924762e+00  -1.15580370e+00   1.40471120e+00\n",
      "  -1.14321742e+00  -1.16685815e+00  -6.55002983e-01  -1.12032621e+00\n",
      "  -1.41283252e+00   3.17505363e-01   8.30504794e-01  -6.38607480e-01\n",
      "  -6.20474157e-01  -7.58716751e-01   1.17177091e+00   5.55312927e-01\n",
      "  -1.15926601e-01  -9.07922625e-01   5.40749238e-01  -1.03668675e+00\n",
      "  -4.52300278e-01   6.50522842e-02  -6.52052448e-01  -6.96890988e-01\n",
      "  -3.10136444e-01  -1.25131364e+00  -7.71434617e-02   3.77948830e-01\n",
      "   1.49400784e+00  -1.47446202e+00  -5.42517589e-01  -5.53608737e-01\n",
      "  -4.73276024e-01   1.41761294e+00   6.76691577e-01  -1.07520731e+00\n",
      "   1.24020746e+00  -6.79945703e-01   1.52620163e+00  -2.04160503e-02\n",
      "  -1.40668668e-02   2.92941381e-01  -2.67028299e-02   1.56563616e-01\n",
      "  -4.93713830e-01  -3.94623710e-01  -4.43745750e-01   8.95134109e-01\n",
      "  -3.86308447e-01  -7.19165247e-01   7.87456024e-01  -3.28716225e-01\n",
      "  -1.53462241e+00  -4.10048906e-02   1.35445545e+00   4.25238325e-03\n",
      "  -1.12851348e-01  -2.18268416e-01  -1.35380915e+00  -4.08418299e-02\n",
      "  -6.16681433e-01  -6.33089409e-01  -6.17798809e-01  -5.73426527e-01\n",
      "  -1.91293665e+00  -5.61289756e-01  -1.73780711e-01   2.81382450e-01\n",
      "   1.07021627e+00  -1.77286458e-02   7.17651305e-01   7.55412120e-01\n",
      "  -6.97987309e-01  -2.89721777e-02  -4.13975253e-01   3.91897961e-01\n",
      "  -6.37648567e-01   1.22192855e+00  -2.23623021e-01   2.61949835e-02\n",
      "   3.65220905e-01   7.61177866e-01  -6.84434124e-01  -6.70181575e-01\n",
      "   1.04657587e+00   7.43177626e-01   2.25942778e+00   3.52297138e-01\n",
      "  -4.47012958e-01  -8.83461593e-02  -6.29562757e-01  -4.43541207e+00\n",
      "  -1.66798389e+00   3.85347015e-01  -2.49204510e+00   1.44667067e-01\n",
      "   1.99796838e+00  -5.86035872e-01   7.97558244e-01   5.48823704e-01\n",
      "   1.42857057e+00  -7.93805241e-01   2.46269339e+00  -6.40821982e-01\n",
      "   2.13813887e-01   2.76603685e-01  -1.68232884e-01   4.55514033e-03\n",
      "  -7.45960290e-01   4.85692881e-01   1.27523944e+00   2.79553547e-02\n",
      "   2.14022993e+00  -6.13153164e-01   8.66047627e-01  -3.06028458e-01\n",
      "  -1.62352872e+00  -3.11919356e-01  -9.68712926e-01   8.28760532e-01\n",
      "  -2.74575673e-01  -9.48228023e-01  -2.53789589e-01  -2.63636900e-01\n",
      "   2.61962215e+00]\n"
     ]
    }
   ],
   "source": [
    "y = [labels[i[0]] for i in training_set]\n",
    "X = [feature(i) for i in training_set]\n",
    "\n",
    "theta,residuals,rank,s = numpy.linalg.lstsq(X, y)\n",
    "print theta"
   ]
  },
  {
   "cell_type": "code",
   "execution_count": 5,
   "metadata": {
    "collapsed": false,
    "scrolled": true
   },
   "outputs": [
    {
     "name": "stdout",
     "output_type": "stream",
     "text": [
      "live\n",
      "way\n",
      "arrived\n",
      "crocs\n",
      "asics\n",
      "either\n",
      "durable\n",
      "traction\n",
      "worked\n",
      "clean\n",
      "\n",
      "sloggers\n",
      "things\n",
      "snow\n",
      "hold\n",
      "having\n",
      "issue\n",
      "knee\n",
      "real\n",
      "runs\n",
      "design\n"
     ]
    }
   ],
   "source": [
    "# Find out the most status/utility words\n",
    "\n",
    "utility = []\n",
    "index = 0\n",
    "for t in theta:\n",
    "  utility.append((t, index))\n",
    "  index += 1\n",
    "\n",
    "status = []\n",
    "index = 0\n",
    "for t in theta:\n",
    "  status.append((t,index))\n",
    "  index += 1\n",
    "\n",
    "utility.sort()\n",
    "utility_words = utility[-11:]\n",
    "\n",
    "status.sort()\n",
    "status_words = status[:10]\n",
    "\n",
    "wordID = dict((y,x) for x,y in wordID.iteritems())\n",
    "\n",
    "for i in utility_words:\n",
    "  if i[1] < len(wordID):\n",
    "    print wordID[i[1]]\n",
    "\n",
    "print \n",
    "\n",
    "for i in status_words:\n",
    "  print wordID[i[1]]"
   ]
  },
  {
   "cell_type": "raw",
   "metadata": {
    "collapsed": false,
    "scrolled": true
   },
   "source": [
    "regr = linear_model.LinearRegression()\n",
    "regr.fit(X, y)\n",
    "\n",
    "# The coefficients\n",
    "print('Coefficients: %.2f', regr.coef_)\n",
    "print regr.intercept_\n",
    "# The mean square error\n",
    "print(\"Residual sum of squares: %.2f\"\n",
    "      % numpy.mean((regr.predict(X) - y) ** 2))\n",
    "# Explained variance score: 1 is perfect prediction\n",
    "print('Variance score: %.2f' % regr.score(X, y))"
   ]
  },
  {
   "cell_type": "raw",
   "metadata": {
    "collapsed": false
   },
   "source": [
    "reviews = []\n",
    "for r in sample_reviews:\n",
    "  reviews.append(r['reviewText'])\n",
    "\n",
    "from sklearn.feature_extraction.text import CountVectorizer\n",
    "count_vect = CountVectorizer(stop_words='english')\n",
    "X_train_counts = count_vect.fit_transform(reviews)\n",
    "\n",
    "# print count_vect.vocabulary_"
   ]
  },
  {
   "cell_type": "raw",
   "metadata": {
    "collapsed": false
   },
   "source": [
    "from sklearn.feature_extraction.text import TfidfTransformer\n",
    "\n",
    "tf_transformer = TfidfTransformer(use_idf=False).fit(X_train_counts)\n",
    "X_train_tf = tf_transformer.transform(X_train_counts)\n",
    "\n",
    "# print X_train_tf"
   ]
  }
 ],
 "metadata": {
  "kernelspec": {
   "display_name": "Python 2",
   "language": "python",
   "name": "python2"
  },
  "language_info": {
   "codemirror_mode": {
    "name": "ipython",
    "version": 2
   },
   "file_extension": ".py",
   "mimetype": "text/x-python",
   "name": "python",
   "nbconvert_exporter": "python",
   "pygments_lexer": "ipython2",
   "version": "2.7.10"
  }
 },
 "nbformat": 4,
 "nbformat_minor": 0
}
