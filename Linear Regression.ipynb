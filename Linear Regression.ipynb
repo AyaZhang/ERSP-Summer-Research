{
 "cells": [
  {
   "cell_type": "code",
   "execution_count": 3,
   "metadata": {
    "collapsed": true
   },
   "outputs": [],
   "source": [
    "import numpy\n",
    "import scipy.optimize\n",
    "\n",
    "import parseData\n",
    "import analysis\n",
    "\n",
    "pathProducts = r\"C:\\Users\\Yijun\\Desktop\\Amazon\\meta_shoes_unique+fifteen_review+price.txt\"\n",
    "pathReviews = r\"C:\\Users\\Yijun\\Desktop\\Amazon\\reviews_shoes_unique+fifteen_review+price.txt\"\n",
    "pathLabels = r\"C:\\Users\\Yijun\\Desktop\\Amazon\\labels.txt\"\n",
    "\n",
    "shoes = parseData.parse(pathProducts)\n",
    "reviews = parseData.parse(pathReviews)\n",
    "labels = parseData.loadLabels(pathLabels)\n",
    "\n",
    "sample_shoes = dict()\n",
    "for i in shoes:\n",
    "  if i['asin'] in labels.keys():\n",
    "    sample_shoes[i['asin']] = i\n",
    "\n",
    "sample_reviews = list()\n",
    "for i in reviews:\n",
    "  if i['asin'] in labels.keys():\n",
    "    sample_reviews.append(i)"
   ]
  },
  {
   "cell_type": "code",
   "execution_count": null,
   "metadata": {
    "collapsed": true
   },
   "outputs": [],
   "source": [
    "# This cell uses only price as feature\n",
    "def feature(key):\n",
    "  feat = [1]\n",
    "  feat.append(sample_shoes[key]['price'])  # price feature\n",
    "  return feat"
   ]
  },
  {
   "cell_type": "raw",
   "metadata": {},
   "source": [
    "# This cell uses both price and popularity as features\n",
    "def feature(key):\n",
    "  feat = [1]\n",
    "  feat.append(sample_shoes[key]['price'])  # price feature\n",
    "  count = 0\n",
    "  for i in sample_reviews:\n",
    "    if i['asin'] == key:\n",
    "      count += 1\n",
    "  feat.append(count) # popularity feature\n",
    "  return feat"
   ]
  },
  {
   "cell_type": "code",
   "execution_count": 5,
   "metadata": {
    "collapsed": false
   },
   "outputs": [
    {
     "data": {
      "text/plain": [
       "array([  2.99981124e+00,  -5.84562489e-03,  -8.40028239e-04])"
      ]
     },
     "execution_count": 5,
     "metadata": {},
     "output_type": "execute_result"
    }
   ],
   "source": [
    "d1 = dict(sample_shoes.items()[len(sample_shoes)/2:]) # training set\n",
    "d2 = dict(sample_shoes.items()[:len(sample_shoes)/2]) # test set\n",
    "\n",
    "y = [labels[key] for key in d1]\n",
    "X = [feature(key) for key in d1]\n",
    "\n",
    "theta,residuals,rank,s = numpy.linalg.lstsq(X, y)\n",
    "\n",
    "theta"
   ]
  },
  {
   "cell_type": "code",
   "execution_count": 6,
   "metadata": {
    "collapsed": false
   },
   "outputs": [
    {
     "data": {
      "text/plain": [
       "3.1715233697647571"
      ]
     },
     "execution_count": 6,
     "metadata": {},
     "output_type": "execute_result"
    }
   ],
   "source": [
    "### Compute MSE on the training set\n",
    "Xi = [feature(key) for key in d2]\n",
    "\n",
    "def mse(x, y, theta):\n",
    "  total = 0\n",
    "  for i in range(0,len(x)):\n",
    "    prediction = sum(x[i][j] * theta[j] for j in range(0, len(theta)))\n",
    "    total += (y[i] - prediction) ** 2\n",
    "  return total/len(x)\n",
    "\n",
    "mse(Xi, y, theta)"
   ]
  },
  {
   "cell_type": "code",
   "execution_count": null,
   "metadata": {
    "collapsed": true
   },
   "outputs": [],
   "source": []
  }
 ],
 "metadata": {
  "kernelspec": {
   "display_name": "Python 2",
   "language": "python",
   "name": "python2"
  },
  "language_info": {
   "codemirror_mode": {
    "name": "ipython",
    "version": 2
   },
   "file_extension": ".py",
   "mimetype": "text/x-python",
   "name": "python",
   "nbconvert_exporter": "python",
   "pygments_lexer": "ipython2",
   "version": "2.7.10"
  }
 },
 "nbformat": 4,
 "nbformat_minor": 0
}
