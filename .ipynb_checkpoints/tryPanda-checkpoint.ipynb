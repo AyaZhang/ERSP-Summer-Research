{
 "cells": [
  {
   "cell_type": "code",
   "execution_count": 2,
   "metadata": {
    "collapsed": true
   },
   "outputs": [],
   "source": [
    "import numpy\n",
    "import scipy.optimize\n",
    "from scipy import stats\n",
    "import operator\n",
    "\n",
    "import parseData\n",
    "import analysis\n",
    "import process\n",
    "\n",
    "# imports\n",
    "import pandas as pd\n",
    "import matplotlib.pyplot as plt\n",
    "\n",
    "# this allows plots to appear directly in the notebook\n",
    "%matplotlib inline\n",
    "\n",
    "\n",
    "pathProducts = r\"C:\\Users\\Yijun\\Desktop\\Amazon\\meta_shoes_unique+fifteen_review+price.txt\"\n",
    "pathReviews = r\"C:\\Users\\Yijun\\Desktop\\Amazon\\reviews_shoes_unique+fifteen_review+price.txt\"\n",
    "pathLabels = r\"C:\\Users\\Yijun\\Desktop\\Amazon\\labels.txt\"\n",
    "\n",
    "shoes = parseData.parse(pathProducts)\n",
    "reviews = parseData.parse(pathReviews)\n",
    "labels = parseData.loadLabels(pathLabels)\n",
    "\n",
    "sample_shoes = dict()\n",
    "for i in shoes:\n",
    "  if i['asin'] in labels.keys():\n",
    "    sample_shoes[i['asin']] = i\n",
    "\n",
    "sample_reviews = list()\n",
    "for i in reviews:\n",
    "  if i['asin'] in labels.keys():\n",
    "    sample_reviews.append(i)   "
   ]
  },
  {
   "cell_type": "raw",
   "metadata": {
    "collapsed": true
   },
   "source": [
    "# This cell calculates the min and max # of reviews and price for normalization\n",
    "d = dict()\n",
    "for key in sample_shoes:\n",
    "  count = 0\n",
    "  for j in sample_reviews:\n",
    "    if key == j['asin']:\n",
    "      count += 1\n",
    "  d[key] = count\n",
    "\n",
    "sorted_count = sorted(d.items(), key=operator.itemgetter(1))\n",
    "# min # of reviews in 1000 data = 16\n",
    "# max # of reviews in 1000 data= 1688\n",
    "\n",
    "d = list()\n",
    "for i in sample_shoes.itervalues():\n",
    "  d.append(i['price'])\n",
    "\n",
    "d.sort()\n",
    "d"
   ]
  },
  {
   "cell_type": "raw",
   "metadata": {},
   "source": [
    "# This cell defines variables for normalization\n",
    "max_count = 1688\n",
    "min_count = 16\n",
    "\n",
    "max_price = 999.0\n",
    "min_price = 3.98"
   ]
  },
  {
   "cell_type": "raw",
   "metadata": {},
   "source": [
    "# This cell uses only price as feature\n",
    "def feature(key):\n",
    "  feat = [1]\n",
    "  price = sample_shoes[key]['price']\n",
    "  feat.append(process.normalize(price, max_price, min_price))  # price feature\n",
    "  return feat"
   ]
  },
  {
   "cell_type": "code",
   "execution_count": 3,
   "metadata": {
    "collapsed": true
   },
   "outputs": [],
   "source": [
    "# This cell uses both price and popularity as features\n",
    "def feature(key):\n",
    "  feat = [1]\n",
    "  feat.append(sample_shoes[key]['price'])  # price feature\n",
    "  count = 0\n",
    "  for i in sample_reviews:\n",
    "    if i['asin'] == key:\n",
    "      count += 1\n",
    "  feat.append(count) # popularity feature\n",
    "  return feat"
   ]
  },
  {
   "cell_type": "code",
   "execution_count": 4,
   "metadata": {
    "collapsed": false,
    "scrolled": true
   },
   "outputs": [
    {
     "data": {
      "text/html": [
       "<div>\n",
       "<table border=\"1\" class=\"dataframe\">\n",
       "  <thead>\n",
       "    <tr style=\"text-align: right;\">\n",
       "      <th></th>\n",
       "      <th>price</th>\n",
       "      <th># of reviews</th>\n",
       "      <th>label</th>\n",
       "    </tr>\n",
       "  </thead>\n",
       "  <tbody>\n",
       "    <tr>\n",
       "      <th>0</th>\n",
       "      <td>79.99</td>\n",
       "      <td>42</td>\n",
       "      <td>4.00</td>\n",
       "    </tr>\n",
       "    <tr>\n",
       "      <th>1</th>\n",
       "      <td>69.99</td>\n",
       "      <td>26</td>\n",
       "      <td>4.00</td>\n",
       "    </tr>\n",
       "    <tr>\n",
       "      <th>2</th>\n",
       "      <td>59.98</td>\n",
       "      <td>16</td>\n",
       "      <td>4.25</td>\n",
       "    </tr>\n",
       "    <tr>\n",
       "      <th>3</th>\n",
       "      <td>69.00</td>\n",
       "      <td>41</td>\n",
       "      <td>1.00</td>\n",
       "    </tr>\n",
       "    <tr>\n",
       "      <th>4</th>\n",
       "      <td>41.95</td>\n",
       "      <td>18</td>\n",
       "      <td>4.00</td>\n",
       "    </tr>\n",
       "  </tbody>\n",
       "</table>\n",
       "</div>"
      ],
      "text/plain": [
       "   price  # of reviews  label\n",
       "0  79.99            42   4.00\n",
       "1  69.99            26   4.00\n",
       "2  59.98            16   4.25\n",
       "3  69.00            41   1.00\n",
       "4  41.95            18   4.00"
      ]
     },
     "execution_count": 4,
     "metadata": {},
     "output_type": "execute_result"
    }
   ],
   "source": [
    "y = [labels[key] for key in sample_shoes]\n",
    "X = [feature(key) for key in sample_shoes]\n",
    "\n",
    "lists = []\n",
    "for i in range(0, len(y)):\n",
    "  feat = []\n",
    "  for j in range(1, len(X[i])):\n",
    "    feat.append(X[i][j])\n",
    "  feat.append(y[i])\n",
    "  lists.append(feat)\n",
    "\n",
    "data = pd.DataFrame(lists)\n",
    "data.columns = ['price', '# of reviews', 'label']\n",
    "data.head()"
   ]
  },
  {
   "cell_type": "code",
   "execution_count": 5,
   "metadata": {
    "collapsed": false,
    "scrolled": true
   },
   "outputs": [
    {
     "data": {
      "text/plain": [
       "<matplotlib.axes._subplots.AxesSubplot at 0x241407b8>"
      ]
     },
     "execution_count": 5,
     "metadata": {},
     "output_type": "execute_result"
    },
    {
     "data": {
      "image/png": "[encoded data removed]",
      "text/plain": [
       "<matplotlib.figure.Figure at 0x23f934e0>"
      ]
     },
     "metadata": {},
     "output_type": "display_data"
    }
   ],
   "source": [
    "fig, axs = plt.subplots(1, 2, sharey=True)\n",
    "data.plot(kind='scatter', x='price', y='label', ax=axs[0], figsize=(16, 8))\n",
    "data.plot(kind='scatter', x='# of reviews', y='label', ax=axs[1])"
   ]
  },
  {
   "cell_type": "code",
   "execution_count": 6,
   "metadata": {
    "collapsed": false
   },
   "outputs": [
    {
     "name": "stdout",
     "output_type": "stream",
     "text": [
      "theta:  [  2.99981124e+00  -5.84562489e-03  -8.40028239e-04]\n"
     ]
    }
   ],
   "source": [
    "d1 = dict(sample_shoes.items()[len(sample_shoes)/2:]) # training set\n",
    "d2 = dict(sample_shoes.items()[:len(sample_shoes)/2]) # test set\n",
    "\n",
    "y = [labels[key] for key in d1]\n",
    "X = [feature(key) for key in d1]\n",
    "\n",
    "theta,residuals,rank,s = numpy.linalg.lstsq(X, y)\n",
    "\n",
    "print \"theta: \", theta"
   ]
  },
  {
   "cell_type": "raw",
   "metadata": {
    "collapsed": false
   },
   "source": [
    "### Compute MSE on the training set\n",
    "Xi = [feature(key) for key in d2]\n",
    "\n",
    "def mse(x, y, theta):\n",
    "  total = 0\n",
    "  for i in range(0,len(x)):\n",
    "    prediction = sum(x[i][j] * theta[j] for j in range(0, len(theta)))\n",
    "    total += (y[i] - prediction) ** 2\n",
    "  return total/len(x)\n",
    "\n",
    "print \"MSE: \", mse(Xi, y, theta)"
   ]
  },
  {
   "cell_type": "code",
   "execution_count": 8,
   "metadata": {
    "collapsed": false
   },
   "outputs": [
    {
     "name": "stdout",
     "output_type": "stream",
     "text": [
      "r-squared:  0.059168244286\n"
     ]
    }
   ],
   "source": [
    "### Compute r-squared\n",
    "def estimated_Y(x, theta):\n",
    "  estimation = []\n",
    "  for i in range(0, len(x)):\n",
    "    estimation.append(sum(x[i][j] * theta[j] for j in range(0, len(theta))))\n",
    "  return estimation\n",
    "\n",
    "slope, intercept, r_value, p_value, std_err = stats.linregress(estimated_Y(X, theta),y)\n",
    "\n",
    "print \"r-squared: \", r_value**2"
   ]
  },
  {
   "cell_type": "code",
   "execution_count": null,
   "metadata": {
    "collapsed": true
   },
   "outputs": [],
   "source": []
  }
 ],
 "metadata": {
  "kernelspec": {
   "display_name": "Python 2",
   "language": "python",
   "name": "python2"
  },
  "language_info": {
   "codemirror_mode": {
    "name": "ipython",
    "version": 2
   },
   "file_extension": ".py",
   "mimetype": "text/x-python",
   "name": "python",
   "nbconvert_exporter": "python",
   "pygments_lexer": "ipython2",
   "version": "2.7.10"
  }
 },
 "nbformat": 4,
 "nbformat_minor": 0
}
